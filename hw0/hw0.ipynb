{
 "cells": [
  {
   "cell_type": "markdown",
   "id": "365dba97-46b2-4a72-8e60-6d66d1b7d79b",
   "metadata": {},
   "source": [
    "# HW0"
   ]
  },
  {
   "cell_type": "markdown",
   "id": "2fbf5f9b-daab-4a50-9e9a-2d2bf56b935e",
   "metadata": {},
   "source": [
    "## Problem 1: Comma Separated Factorials"
   ]
  },
  {
   "cell_type": "code",
   "execution_count": 1,
   "id": "9d7944a1-7f5d-414b-89cc-357b90f03b0f",
   "metadata": {
    "scrolled": true
   },
   "outputs": [
    {
     "name": "stdout",
     "output_type": "stream",
     "text": [
      "362880,40320,5040,720,120,24,6,2,1\n"
     ]
    }
   ],
   "source": [
    "def fact(x):\n",
    "    result = 1\n",
    "    while(x>1):\n",
    "        result *= x\n",
    "        x = x-1\n",
    "    return result\n",
    "\n",
    "def main(x):\n",
    "    if(x==1):\n",
    "        return \"1\"\n",
    "    result = \"\"\n",
    "    for i in range(x):\n",
    "        if(i==0):\n",
    "            result = str(fact(i+1))\n",
    "        else:\n",
    "            result = str(fact(i+1)) + \",\" + result\n",
    "    return result\n",
    "\n",
    "print(main(9))"
   ]
  },
  {
   "cell_type": "markdown",
   "id": "4d6c64f9-1656-4665-bb36-5d8750ae72c1",
   "metadata": {},
   "source": [
    "## Problem 2: List Manipulation"
   ]
  },
  {
   "cell_type": "code",
   "execution_count": 2,
   "id": "33aaf422-d92e-48d2-a632-69f0542b9e01",
   "metadata": {},
   "outputs": [],
   "source": [
    "def list_func(list1, list2):\n",
    "    list2.sort(reverse=True)\n",
    "    list2.pop()\n",
    "    return list2"
   ]
  },
  {
   "cell_type": "code",
   "execution_count": 3,
   "id": "6442f8ba-929d-4984-9482-272464625819",
   "metadata": {},
   "outputs": [],
   "source": [
    "def list_func(list1, list2):\n",
    "    list1.reverse()\n",
    "    return list1"
   ]
  },
  {
   "cell_type": "code",
   "execution_count": 4,
   "id": "f7b40579-0e2e-40ad-838f-1a4da72784da",
   "metadata": {},
   "outputs": [],
   "source": [
    "def list_func(list1, list2):\n",
    "    set1 = set(list1)\n",
    "    set2 = set(list2)\n",
    "    combined_set = set1 | set2\n",
    "    combined_list = list(combined_set)\n",
    "    combined_list.sort()\n",
    "    return combined_list"
   ]
  },
  {
   "cell_type": "code",
   "execution_count": 5,
   "id": "bd3fc4d5-c966-407d-9297-2eacacbb2985",
   "metadata": {},
   "outputs": [],
   "source": [
    "def list_func(list1, list2):\n",
    "    list2d = []\n",
    "    list2d.append(list1)\n",
    "    list2d.append(list2)\n",
    "    return list2d"
   ]
  },
  {
   "cell_type": "code",
   "execution_count": 6,
   "id": "b65e5432-0b21-4628-b0e5-e60d14c1bd07",
   "metadata": {},
   "outputs": [
    {
     "name": "stdout",
     "output_type": "stream",
     "text": [
      "[[1, 2, 3, 4, 5], [6, 7, 8, 9]]\n"
     ]
    }
   ],
   "source": [
    "list1 = [1,2,3,4,5]\n",
    "list2 = [6,7,8,9]\n",
    "print(list_func(list1, list2))"
   ]
  },
  {
   "cell_type": "markdown",
   "id": "e74d101d-41b8-42c7-bb5f-b7a483321b77",
   "metadata": {},
   "source": [
    "## Problem 3: Set Manipulation"
   ]
  },
  {
   "cell_type": "code",
   "execution_count": 7,
   "id": "85cc97b4-b398-479d-8e36-645a721129ec",
   "metadata": {},
   "outputs": [],
   "source": [
    "def set_func(set1, set2, set3):\n",
    "    return set1 | set2 | set3"
   ]
  },
  {
   "cell_type": "code",
   "execution_count": 8,
   "id": "08443c16-b326-43ea-ac66-da53fac116ca",
   "metadata": {},
   "outputs": [],
   "source": [
    "def set_func(set1, set2, set3):\n",
    "    return set1 & set2 & set3"
   ]
  },
  {
   "cell_type": "code",
   "execution_count": 9,
   "id": "39c7da1a-de55-41d9-b753-9aa901154d40",
   "metadata": {},
   "outputs": [],
   "source": [
    "def set_func(set1, set2, set3):\n",
    "    # inter3 = set1 & set2 & set3\n",
    "    inter12 = set1 & set2\n",
    "    inter13 = set1 & set3\n",
    "    inter23 = set2 & set3\n",
    "    result = (set1 | set2 | set3) - inter12 - inter23 - inter13\n",
    "    return result"
   ]
  },
  {
   "cell_type": "code",
   "execution_count": 10,
   "id": "74463aab-8fe8-49ef-b6b7-5fd12659ae53",
   "metadata": {},
   "outputs": [
    {
     "name": "stdout",
     "output_type": "stream",
     "text": [
      "{1, 5}\n"
     ]
    }
   ],
   "source": [
    "set1 = {1,2,3}\n",
    "set2 = {2,3,4}\n",
    "set3 = {3,4,5}\n",
    "print(set_func(set1, set2, set3))"
   ]
  },
  {
   "cell_type": "markdown",
   "id": "244f9d57-9868-4715-9747-c83dae9a3f2d",
   "metadata": {},
   "source": [
    "below are just numpy testing code"
   ]
  },
  {
   "cell_type": "code",
   "execution_count": 11,
   "id": "ffbd1349-f1aa-4db0-ae67-1104d73479fa",
   "metadata": {},
   "outputs": [],
   "source": [
    "import numpy as np"
   ]
  },
  {
   "cell_type": "code",
   "execution_count": 12,
   "id": "41f9d73d-857e-4a46-b2e1-da7ee3c10a55",
   "metadata": {},
   "outputs": [
    {
     "name": "stdout",
     "output_type": "stream",
     "text": [
      "[[ 1  2  3  4]\n",
      " [ 5  6  7  8]\n",
      " [ 9 10 11 12]\n",
      " [ 1  2  3  4]\n",
      " [ 5  6  7  8]\n",
      " [ 9 10 11 12]]\n",
      "[[ 1  2  3  4  1  2  3  4]\n",
      " [ 5  6  7  8  5  6  7  8]\n",
      " [ 9 10 11 12  9 10 11 12]]\n"
     ]
    }
   ],
   "source": [
    "a = np.array([[1, 2, 3, 4], [5, 6, 7, 8], [9, 10, 11, 12]])\n",
    "b = np.array([[[1,2],[3,4],[5,6]],[[1,2],[3,4],[5,6]]])\n",
    "c = np.array([[1, 2, 3, 4], [5, 6, 7, 8], [9, 10, 11, 12]])\n",
    "print(np.concatenate((a,c), axis=0))\n",
    "print(np.concatenate((a,c), axis=1))"
   ]
  },
  {
   "cell_type": "code",
   "execution_count": 13,
   "id": "62d6263a-df46-480d-bdd9-67ab8b0672d0",
   "metadata": {
    "scrolled": true
   },
   "outputs": [
    {
     "name": "stdout",
     "output_type": "stream",
     "text": [
      "[[1 2 3 4 5 6]]\n",
      "[[1 2 3 4 5 6]]\n",
      "[[1]\n",
      " [2]\n",
      " [3]\n",
      " [4]\n",
      " [5]\n",
      " [6]]\n",
      "[[1]\n",
      " [2]\n",
      " [3]\n",
      " [4]\n",
      " [5]\n",
      " [6]]\n"
     ]
    }
   ],
   "source": [
    "a = np.array([1, 2, 3, 4, 5, 6])\n",
    "a2 = a[np.newaxis, :]\n",
    "a3 = a.reshape(1,6)\n",
    "b = np.expand_dims(a, axis=1)\n",
    "b2 = a.reshape(6,1)\n",
    "print(a2)\n",
    "print(a3)\n",
    "print(b)\n",
    "print(b2)"
   ]
  },
  {
   "cell_type": "code",
   "execution_count": 14,
   "id": "8ed4890d-c2ac-4ef2-8077-8cfad50047a1",
   "metadata": {},
   "outputs": [
    {
     "name": "stdout",
     "output_type": "stream",
     "text": [
      "[ 2  4  6  8 10 12]\n"
     ]
    },
    {
     "data": {
      "text/plain": [
       "array([[0, 2, 4, 0],\n",
       "       [2, 2, 4, 2]])"
      ]
     },
     "execution_count": 14,
     "metadata": {},
     "output_type": "execute_result"
    }
   ],
   "source": [
    "a = np.array([1, 2, 3, 4, 5, 6])\n",
    "b = np.array([1, 2, 3, 4, 5, 6])\n",
    "c = np.array([1, 3, 4, 5, 6])\n",
    "print(a+b)\n",
    "rng = np.random.default_rng()\n",
    "rng.integers(5, size=(2,4)) # generate random integers in range [0,5) into a nparray of shape (2,4)"
   ]
  },
  {
   "cell_type": "markdown",
   "id": "460beb72-d403-479f-8a7a-8359e5ce18f9",
   "metadata": {},
   "source": [
    "## Problem 4: Under Attack"
   ]
  },
  {
   "cell_type": "code",
   "execution_count": 15,
   "id": "af005496-f8fe-4c51-b4e5-04b72a3f2d09",
   "metadata": {},
   "outputs": [],
   "source": [
    "def createMatrix():\n",
    "    matrix = np.array([[1,1,1,1,1],[1,0,0,0,1],[1,0,2,0,1],[1,0,0,0,1],[1,1,1,1,1]])\n",
    "    return matrix"
   ]
  },
  {
   "cell_type": "code",
   "execution_count": 16,
   "id": "5e5055f9-fbdb-42b1-b857-3d0095506d1f",
   "metadata": {},
   "outputs": [],
   "source": [
    "def createMatrix2():\n",
    "    matrix = np.array([[1,1,1,1,1],[1,2,0,0,1],[1,0,0,0,1],[1,0,0,0,1],[1,1,1,1,1]])\n",
    "    return matrix"
   ]
  },
  {
   "cell_type": "code",
   "execution_count": 17,
   "id": "4e19e481-43a3-4f56-b48c-f2b57ca25c30",
   "metadata": {},
   "outputs": [],
   "source": [
    "def get_pawn_index(board):\n",
    "    return np.where(board == 2)"
   ]
  },
  {
   "cell_type": "code",
   "execution_count": 18,
   "id": "70f176f5-4403-464b-9c2f-c7601f2fe826",
   "metadata": {},
   "outputs": [],
   "source": [
    "def check_knight(board, pawn, x, y):\n",
    "    newx = pawn[0][0]+x\n",
    "    newy = pawn[1][0]+y\n",
    "    # print(x,y,newx,newy)\n",
    "    if(newx<0 or newx>5 or newy<0 or newy>5):\n",
    "        pass\n",
    "    elif (board[newx][newy] == 1):\n",
    "        print(\"(%d,%d)\"%(newx, newy))"
   ]
  },
  {
   "cell_type": "code",
   "execution_count": 19,
   "id": "3ade5fcd-eb05-4f1b-b4ed-ce792a26a5e9",
   "metadata": {},
   "outputs": [],
   "source": [
    "def detect(board):\n",
    "    pawn = get_pawn_index(board)\n",
    "    check_knight(board, pawn, 2, 1)\n",
    "    check_knight(board, pawn, 2, -1)\n",
    "    check_knight(board, pawn, -2, 1)\n",
    "    check_knight(board, pawn, -2, -1)\n",
    "    check_knight(board, pawn, 1, 2)\n",
    "    check_knight(board, pawn, 1, -2)\n",
    "    check_knight(board, pawn, -1, 2)\n",
    "    check_knight(board, pawn, -1, -2)"
   ]
  },
  {
   "cell_type": "code",
   "execution_count": 20,
   "id": "20b56be3-fde9-466c-ad0e-81731c046a15",
   "metadata": {},
   "outputs": [
    {
     "name": "stdout",
     "output_type": "stream",
     "text": [
      "[[1 1 1 1 1]\n",
      " [1 0 0 0 1]\n",
      " [1 0 2 0 1]\n",
      " [1 0 0 0 1]\n",
      " [1 1 1 1 1]]\n",
      "(4,3)\n",
      "(4,1)\n",
      "(0,3)\n",
      "(0,1)\n",
      "(3,4)\n",
      "(3,0)\n",
      "(1,4)\n",
      "(1,0)\n"
     ]
    }
   ],
   "source": [
    "print(createMatrix())\n",
    "detect(createMatrix())"
   ]
  },
  {
   "cell_type": "code",
   "execution_count": 21,
   "id": "73261655-209e-4a35-95e7-5ab8c48d8dce",
   "metadata": {},
   "outputs": [
    {
     "name": "stdout",
     "output_type": "stream",
     "text": [
      "[[1 1 1 1 1]\n",
      " [1 2 0 0 1]\n",
      " [1 0 0 0 1]\n",
      " [1 0 0 0 1]\n",
      " [1 1 1 1 1]]\n",
      "(3,0)\n",
      "(0,3)\n"
     ]
    }
   ],
   "source": [
    "print(createMatrix2())\n",
    "detect(createMatrix2())"
   ]
  },
  {
   "cell_type": "markdown",
   "id": "ad30c83b-782a-489e-83f8-1d66ed7d65b4",
   "metadata": {},
   "source": [
    "## Problem 5: Graphs"
   ]
  },
  {
   "cell_type": "code",
   "execution_count": 22,
   "id": "54084d31-6950-4aa3-9e1d-37bfd2b11ecf",
   "metadata": {},
   "outputs": [],
   "source": [
    "def create_graph():\n",
    "    graph = {\n",
    "        \"A\": [\"D\", \"E\"],\n",
    "        \"B\": [\"E\", \"F\"],\n",
    "        \"C\": [\"E\"],\n",
    "        \"D\": [\"A\", \"E\"],\n",
    "        \"E\": [\"A\", \"B\", \"C\", \"D\"],\n",
    "        \"F\": [\"B\"],\n",
    "        \"G\": []\n",
    "    }\n",
    "    return graph"
   ]
  },
  {
   "cell_type": "code",
   "execution_count": 23,
   "id": "153655c9-aee5-48a8-9d98-f7cb18ac9810",
   "metadata": {},
   "outputs": [],
   "source": [
    "def isolated_node(graph):\n",
    "    result = 0\n",
    "    for k in graph.keys():\n",
    "        if graph[k]:\n",
    "            pass\n",
    "        else:\n",
    "            result += 1\n",
    "    return result"
   ]
  },
  {
   "cell_type": "code",
   "execution_count": 24,
   "id": "b71030f3-ae6b-4516-85e7-9e0384b4d20a",
   "metadata": {},
   "outputs": [],
   "source": [
    "def non_isolated_node(graph):\n",
    "    result = 0\n",
    "    for k in graph.keys():\n",
    "        if graph[k]:\n",
    "            result += 1\n",
    "        else:\n",
    "            pass\n",
    "    return result"
   ]
  },
  {
   "cell_type": "code",
   "execution_count": 25,
   "id": "8327e327-7e0d-4963-a358-3dd341201ebb",
   "metadata": {},
   "outputs": [],
   "source": [
    "def find_unique_edge(graph):\n",
    "    for k in graph.keys():\n",
    "        for des in graph[k]:\n",
    "            if des < k:\n",
    "                pass\n",
    "            else:\n",
    "                print(\"(%s,%s)\"%(k, des))"
   ]
  },
  {
   "cell_type": "code",
   "execution_count": 26,
   "id": "16327203-d050-4f4b-b891-bba208c842fa",
   "metadata": {},
   "outputs": [],
   "source": [
    "def construct_matrix(graph):\n",
    "    # print(ord(\"a\"))\n",
    "    # print(chr(97))\n",
    "    result = np.zeros((len(graph), len(graph)))\n",
    "    for k in graph.keys():\n",
    "        for des in graph[k]:\n",
    "            result[ord(k)-ord(\"A\")][ord(des)-ord(\"A\")]=1\n",
    "    return result"
   ]
  },
  {
   "cell_type": "code",
   "execution_count": 27,
   "id": "07d62b21-4cbc-4a7e-a04b-a0f21a530672",
   "metadata": {
    "scrolled": true
   },
   "outputs": [
    {
     "name": "stdout",
     "output_type": "stream",
     "text": [
      "1\n",
      "6\n",
      "(A,D)\n",
      "(A,E)\n",
      "(B,E)\n",
      "(B,F)\n",
      "(C,E)\n",
      "(D,E)\n"
     ]
    },
    {
     "data": {
      "text/plain": [
       "array([[0., 0., 0., 1., 1., 0., 0.],\n",
       "       [0., 0., 0., 0., 1., 1., 0.],\n",
       "       [0., 0., 0., 0., 1., 0., 0.],\n",
       "       [1., 0., 0., 0., 1., 0., 0.],\n",
       "       [1., 1., 1., 1., 0., 0., 0.],\n",
       "       [0., 1., 0., 0., 0., 0., 0.],\n",
       "       [0., 0., 0., 0., 0., 0., 0.]])"
      ]
     },
     "execution_count": 27,
     "metadata": {},
     "output_type": "execute_result"
    }
   ],
   "source": [
    "print(isolated_node(create_graph()))\n",
    "print(non_isolated_node(create_graph()))\n",
    "find_unique_edge(create_graph())\n",
    "construct_matrix(create_graph())"
   ]
  },
  {
   "cell_type": "markdown",
   "id": "f2ede9ee-1957-4fcb-84b2-7c641bd0ad33",
   "metadata": {},
   "source": [
    "## Problem 6: Supermarket"
   ]
  },
  {
   "cell_type": "code",
   "execution_count": 28,
   "id": "c8812c02-71fd-499e-aad7-aa212bf8afcf",
   "metadata": {},
   "outputs": [],
   "source": [
    "import heapq"
   ]
  },
  {
   "cell_type": "code",
   "execution_count": 47,
   "id": "7c59484f-1149-43f4-a776-201c9745785c",
   "metadata": {},
   "outputs": [],
   "source": [
    "class PriorityQueue():\n",
    "    def __init__(self):\n",
    "        self.data = []\n",
    "        heapq.heapify(self.data)\n",
    "    \n",
    "    def push(self, item, price):\n",
    "        heapq.heappush(self.data, (price, item))\n",
    "\n",
    "    # def printpq(self):\n",
    "    #     for item in self.data:\n",
    "    #         print(item)\n",
    "\n",
    "    def isempty(self):\n",
    "        return len(self.data) == 0\n",
    "    \n",
    "    def pop(self):\n",
    "        return heapq.heappop(self.data)[1].replace(\"'\",\"\")"
   ]
  },
  {
   "cell_type": "code",
   "execution_count": 48,
   "id": "34cb3e91-97f5-4c99-8c26-8ae76df7ef16",
   "metadata": {},
   "outputs": [
    {
     "name": "stdout",
     "output_type": "stream",
     "text": [
      "kiwi\n",
      "apple\n",
      "orange\n",
      "carrot\n"
     ]
    }
   ],
   "source": [
    "pq = PriorityQueue()\n",
    "pq.push(\"orange\",3.7)\n",
    "pq.push(\"carrot\",5.1)\n",
    "pq.push(\"kiwi\",2.4)\n",
    "pq.push(\"apple\",3.7)\n",
    "while not pq.isempty():\n",
    "    print(pq.pop())"
   ]
  }
 ],
 "metadata": {
  "kernelspec": {
   "display_name": "Python 3 (ipykernel)",
   "language": "python",
   "name": "python3"
  },
  "language_info": {
   "codemirror_mode": {
    "name": "ipython",
    "version": 3
   },
   "file_extension": ".py",
   "mimetype": "text/x-python",
   "name": "python",
   "nbconvert_exporter": "python",
   "pygments_lexer": "ipython3",
   "version": "3.11.5"
  }
 },
 "nbformat": 4,
 "nbformat_minor": 5
}
