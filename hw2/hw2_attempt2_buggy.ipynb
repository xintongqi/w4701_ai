{
 "cells": [
  {
   "cell_type": "code",
   "execution_count": 1,
   "id": "21cf0341-69b9-4a50-9376-60109847faaa",
   "metadata": {},
   "outputs": [],
   "source": [
    "#!/usr/bin/env python\n",
    "#coding:utf-8\n",
    "\n",
    "\"\"\"\n",
    "Each sudoku board is represented as a dictionary with string keys and\n",
    "int values.\n",
    "e.g. my_board['A1'] = 8\n",
    "\"\"\"\n",
    "import sys\n",
    "\n",
    "ROW = \"ABCDEFGHI\"\n",
    "COL = \"123456789\""
   ]
  },
  {
   "cell_type": "code",
   "execution_count": 2,
   "id": "b8d1df76-493d-4ef4-814f-1ddfaf3ea54a",
   "metadata": {},
   "outputs": [],
   "source": [
    "def print_board(board):\n",
    "    \"\"\"Helper function to print board in a square.\"\"\"\n",
    "    print(\"-----------------\")\n",
    "    for i in ROW:\n",
    "        row = ''\n",
    "        for j in COL:\n",
    "            row += (str(board[i + j]) + \" \")\n",
    "        print(row)"
   ]
  },
  {
   "cell_type": "code",
   "execution_count": 3,
   "id": "83b732d2-f8b7-4393-8d2d-bc470d47f744",
   "metadata": {},
   "outputs": [],
   "source": [
    "def board_to_string(board):\n",
    "    \"\"\"Helper function to convert board dictionary to string for writing.\"\"\"\n",
    "    ordered_vals = []\n",
    "    for r in ROW:\n",
    "        for c in COL:\n",
    "            ordered_vals.append(str(board[r + c]))\n",
    "    return ''.join(ordered_vals)"
   ]
  },
  {
   "cell_type": "code",
   "execution_count": 26,
   "id": "331e5ac8-63ed-45c4-a088-cf75d781e82e",
   "metadata": {},
   "outputs": [],
   "source": [
    "def get_row(var):\n",
    "    row = var[0]\n",
    "    rows = []\n",
    "    for i in range(9):\n",
    "        r = chr(ord(\"1\") + i)\n",
    "        rows.append(row+r)\n",
    "    return rows"
   ]
  },
  {
   "cell_type": "code",
   "execution_count": 24,
   "id": "59190d96-5c78-4b0a-aa6c-6951ec2698d0",
   "metadata": {},
   "outputs": [],
   "source": [
    "def get_col(var):\n",
    "    col = var[1]\n",
    "    cols = []\n",
    "    for i in range(9):\n",
    "        c = chr(ord(\"A\") + i)\n",
    "        cols.append(c+col)\n",
    "    return cols"
   ]
  },
  {
   "cell_type": "code",
   "execution_count": 20,
   "id": "9835d112-ab64-4c52-bbf6-4b3cc8b71d7a",
   "metadata": {},
   "outputs": [],
   "source": [
    "def get_mini_grid(var):\n",
    "    mini_grids = {\n",
    "        \"00\" : ['A1','A2','A3','B1','B2','B3','C1','C2','C3'],\n",
    "        \"01\" : ['A4','A5','A6','B4','B5','B6','C4','C5','C6'],\n",
    "        \"02\" : ['A7','A8','A9','B7','B8','B9','C7','C8','C9'],\n",
    "        \"10\" : ['D1','D2','D3','E1','E2','E3','F1','F2','F3'],\n",
    "        \"11\" : ['D4','D5','D6','E4','E5','E6','F4','F5','F6'],\n",
    "        \"12\" : ['D7','D8','D9','E7','E8','E9','F7','F8','F9'],\n",
    "        \"20\" : ['G1','G2','G3','H1','H2','H3','I1','I2','I3'],\n",
    "        \"21\" : ['G4','G5','G6','H4','H5','H6','I4','I5','I6'],\n",
    "        \"22\" : ['G7','G8','G9','H7','H8','H9','I7','I8','I9']}\n",
    "    row = (ord(var[0]) - ord('A')) // 3\n",
    "    col = (ord(var[1]) - ord('1')) // 3\n",
    "    return mini_grids[str(row) + str(col)]"
   ]
  },
  {
   "cell_type": "code",
   "execution_count": 29,
   "id": "6a287442-e013-4b50-a450-c55576254f93",
   "metadata": {},
   "outputs": [],
   "source": [
    "def satisfy_constraints(board):\n",
    "    return row_constraint(board) and col_constraint(board) and mini_grid_constraint(board)"
   ]
  },
  {
   "cell_type": "code",
   "execution_count": 135,
   "id": "0331aa66-340f-4fad-8112-a6394075535b",
   "metadata": {},
   "outputs": [],
   "source": [
    "def get_neighbors(var):\n",
    "    row_n = set(get_row(var))\n",
    "    col_n = set(get_col(var))\n",
    "    mini_grid_n = set(get_mini_grid(var))\n",
    "    n = row_n | col_n | mini_grid_n\n",
    "    n.remove(var)\n",
    "    return n"
   ]
  },
  {
   "cell_type": "code",
   "execution_count": 127,
   "id": "2070a1be-35c3-4daa-9d2d-0ae1e315d65b",
   "metadata": {},
   "outputs": [],
   "source": [
    "def all_tiles_filled(board):\n",
    "    board_str = board_to_string(board)\n",
    "    return not (\"0\" in board_str)"
   ]
  },
  {
   "cell_type": "code",
   "execution_count": 137,
   "id": "92fd01e4-30ed-4520-ae27-f709d4298204",
   "metadata": {},
   "outputs": [],
   "source": [
    "def select_var_mrv(assignment, domains):\n",
    "    min_domain_len = 100\n",
    "    var = None\n",
    "\n",
    "    for k,v in assignment.items():\n",
    "        if(v == 0 and len(domains[k]) < min_domain_len):\n",
    "            min_domain_len = len(domains[k])\n",
    "            var = k\n",
    "\n",
    "    return var"
   ]
  },
  {
   "cell_type": "code",
   "execution_count": 138,
   "id": "a88a5674-d68a-42f8-9ad6-18f95050e914",
   "metadata": {},
   "outputs": [],
   "source": [
    "def is_safe(value, var, assignment, neighbors):\n",
    "    neighbor = neighbors[var]\n",
    "    for n in neighbor:\n",
    "        if (assignment[n] == value):\n",
    "            return False\n",
    "\n",
    "    return True"
   ]
  },
  {
   "cell_type": "code",
   "execution_count": 299,
   "id": "467ca893-a3a0-4949-b88e-46e6c5b0c3a4",
   "metadata": {},
   "outputs": [],
   "source": [
    "def forward_checking(assignment, neighbors, domains, var):\n",
    "    new_domains = dict(domains)\n",
    "    \n",
    "    for neighbor in neighbors[var]:\n",
    "        if assignment[var] in new_domains[neighbor]:\n",
    "            new_domains[neighbor].remove(assignment[var])\n",
    "            if (len(new_domains[neighbor]) == 0):\n",
    "                return False, domains\n",
    "\n",
    "    return True, new_domains"
   ]
  },
  {
   "cell_type": "code",
   "execution_count": 300,
   "id": "490abdd9-dc82-4391-9fd0-1ddf9b1e975b",
   "metadata": {},
   "outputs": [],
   "source": [
    "def backtrack(assignment, neighbors, domains):\n",
    "    if (all_tiles_filled(assignment)):\n",
    "        return True\n",
    "\n",
    "    var = select_var_mrv(assignment, domains)\n",
    "    domain = list(domains[var])\n",
    "    domains_cp = dict(domains)\n",
    "    \n",
    "    for v in domain:\n",
    "        if(var == \"A1\"):\n",
    "            print(v, domain, domains[var], domains_cp[var])\n",
    "            \n",
    "        if (v not in domains[var]):\n",
    "            continue\n",
    "\n",
    "        if (is_safe(v, var, assignment, neighbors)):\n",
    "            assignment[var] = v\n",
    "\n",
    "            FC_success, new_domains = forward_checking(assignment, neighbors, domains, var)\n",
    "\n",
    "            if (FC_success):\n",
    "                backtrack_success = backtrack(assignment, neighbors, new_domains)\n",
    "                print(backtrack_success, new_domains[\"A1\"], domains[\"A1\"], domains_cp[\"A1\"])\n",
    "                if (backtrack_success):\n",
    "                    return True\n",
    "                else:\n",
    "                    domains = domains_cp\n",
    "            else:\n",
    "                domains = domains_cp\n",
    "                assignment[var] = 0\n",
    "    \n",
    "    return False"
   ]
  },
  {
   "cell_type": "code",
   "execution_count": 301,
   "id": "306e279f-d5d7-43e3-90bc-bb884558f046",
   "metadata": {},
   "outputs": [],
   "source": [
    "def backtracking(board):\n",
    "    \"\"\"Takes a board and returns solved board.\"\"\"    \n",
    "    assignment = dict(board)\n",
    "    \n",
    "    neighbors = dict(board)\n",
    "    for k in neighbors:\n",
    "        neighbors[k] = get_neighbors(k)\n",
    "\n",
    "    domains = dict(board)\n",
    "    for k in domains:\n",
    "        domains[k] = {1,2,3,4,5,6,7,8,9}\n",
    "\n",
    "    # forward checking beforehand\n",
    "    for var,v in board.items():\n",
    "        forward_checking(assignment, neighbors, domains, var)\n",
    "\n",
    "    # for item in domains.items():\n",
    "    #     print(item)\n",
    "\n",
    "    state = backtrack(assignment, neighbors, domains)\n",
    "\n",
    "    print_board(assignment)\n",
    "\n",
    "    if (state):\n",
    "        return assignment\n",
    "    else:\n",
    "        return \"Failed to solve this board\""
   ]
  },
  {
   "cell_type": "code",
   "execution_count": 302,
   "id": "3aab6a20-435b-4bc6-8daa-4537cf779a04",
   "metadata": {},
   "outputs": [
    {
     "name": "stdout",
     "output_type": "stream",
     "text": [
      "-----------------\n",
      "0 0 0 1 0 0 7 0 2 \n",
      "0 3 0 9 5 0 0 0 0 \n",
      "0 0 1 0 0 2 0 0 3 \n",
      "5 9 0 0 0 0 3 0 1 \n",
      "0 2 0 0 0 0 0 7 0 \n",
      "7 0 3 0 0 0 0 9 8 \n",
      "8 0 0 2 0 0 1 0 0 \n",
      "0 0 0 0 8 5 0 6 0 \n",
      "6 0 5 0 0 9 0 0 0 \n",
      "4 [4, 9] {4, 9} {4, 9}\n",
      "False {4} {4} {4}\n",
      "False {4} {4} {4}\n",
      "False {4} {4} {4}\n",
      "False {4} {4} {4}\n",
      "False {4} {4} {4}\n",
      "False {4} {4} {4}\n",
      "False {4} {4} {4}\n",
      "False {4} {4} {4}\n",
      "9 [4, 9] {4} {4}\n",
      "-----------------\n",
      "4 0 6 1 3 8 7 0 2 \n",
      "2 3 0 9 5 0 0 0 0 \n",
      "9 0 1 0 0 2 0 0 3 \n",
      "5 9 0 0 0 0 3 0 1 \n",
      "1 2 0 0 0 0 0 7 0 \n",
      "7 0 3 0 0 0 0 9 8 \n",
      "8 0 0 2 0 0 1 0 0 \n",
      "3 0 0 0 8 5 0 6 0 \n",
      "6 0 5 0 0 9 0 0 0 \n",
      "-----------------\n"
     ]
    },
    {
     "ename": "TypeError",
     "evalue": "string indices must be integers, not 'str'",
     "output_type": "error",
     "traceback": [
      "\u001b[0;31m---------------------------------------------------------------------------\u001b[0m",
      "\u001b[0;31mTypeError\u001b[0m                                 Traceback (most recent call last)",
      "Cell \u001b[0;32mIn[302], line 8\u001b[0m\n\u001b[1;32m      6\u001b[0m print_board(board)\n\u001b[1;32m      7\u001b[0m solution \u001b[38;5;241m=\u001b[39m backtracking(board)\n\u001b[0;32m----> 8\u001b[0m \u001b[43mprint_board\u001b[49m\u001b[43m(\u001b[49m\u001b[43msolution\u001b[49m\u001b[43m)\u001b[49m\n",
      "Cell \u001b[0;32mIn[2], line 7\u001b[0m, in \u001b[0;36mprint_board\u001b[0;34m(board)\u001b[0m\n\u001b[1;32m      5\u001b[0m row \u001b[38;5;241m=\u001b[39m \u001b[38;5;124m'\u001b[39m\u001b[38;5;124m'\u001b[39m\n\u001b[1;32m      6\u001b[0m \u001b[38;5;28;01mfor\u001b[39;00m j \u001b[38;5;129;01min\u001b[39;00m COL:\n\u001b[0;32m----> 7\u001b[0m     row \u001b[38;5;241m+\u001b[39m\u001b[38;5;241m=\u001b[39m (\u001b[38;5;28mstr\u001b[39m(\u001b[43mboard\u001b[49m\u001b[43m[\u001b[49m\u001b[43mi\u001b[49m\u001b[43m \u001b[49m\u001b[38;5;241;43m+\u001b[39;49m\u001b[43m \u001b[49m\u001b[43mj\u001b[49m\u001b[43m]\u001b[49m) \u001b[38;5;241m+\u001b[39m \u001b[38;5;124m\"\u001b[39m\u001b[38;5;124m \u001b[39m\u001b[38;5;124m\"\u001b[39m)\n\u001b[1;32m      8\u001b[0m \u001b[38;5;28mprint\u001b[39m(row)\n",
      "\u001b[0;31mTypeError\u001b[0m: string indices must be integers, not 'str'"
     ]
    }
   ],
   "source": [
    "if __name__ == '__main__':\n",
    "    input_str = \"000100702030950000001002003590000301020000070703000098800200100000085060605009000\"\n",
    "    board = { ROW[r] + COL[c]: int(input_str[9*r+c])\n",
    "                  for r in range(9) for c in range(9)}       \n",
    "\n",
    "    print_board(board)\n",
    "    solution = backtracking(board)\n",
    "    print_board(solution)"
   ]
  },
  {
   "cell_type": "code",
   "execution_count": 303,
   "id": "cc18c7c6-364d-493e-b7b9-820fd61cd260",
   "metadata": {},
   "outputs": [
    {
     "name": "stdout",
     "output_type": "stream",
     "text": [
      "-f\n"
     ]
    },
    {
     "ename": "ValueError",
     "evalue": "invalid literal for int() with base 10: '-'",
     "output_type": "error",
     "traceback": [
      "\u001b[0;31m---------------------------------------------------------------------------\u001b[0m",
      "\u001b[0;31mValueError\u001b[0m                                Traceback (most recent call last)",
      "Cell \u001b[0;32mIn[303], line 7\u001b[0m\n\u001b[1;32m      5\u001b[0m \u001b[38;5;28mprint\u001b[39m(sys\u001b[38;5;241m.\u001b[39margv[\u001b[38;5;241m1\u001b[39m])\n\u001b[1;32m      6\u001b[0m \u001b[38;5;66;03m# Parse boards to dict representation, scanning board L to R, Up to Down\u001b[39;00m\n\u001b[0;32m----> 7\u001b[0m board \u001b[38;5;241m=\u001b[39m \u001b[43m{\u001b[49m\u001b[43m \u001b[49m\u001b[43mROW\u001b[49m\u001b[43m[\u001b[49m\u001b[43mr\u001b[49m\u001b[43m]\u001b[49m\u001b[43m \u001b[49m\u001b[38;5;241;43m+\u001b[39;49m\u001b[43m \u001b[49m\u001b[43mCOL\u001b[49m\u001b[43m[\u001b[49m\u001b[43mc\u001b[49m\u001b[43m]\u001b[49m\u001b[43m:\u001b[49m\u001b[43m \u001b[49m\u001b[38;5;28;43mint\u001b[39;49m\u001b[43m(\u001b[49m\u001b[43msys\u001b[49m\u001b[38;5;241;43m.\u001b[39;49m\u001b[43margv\u001b[49m\u001b[43m[\u001b[49m\u001b[38;5;241;43m1\u001b[39;49m\u001b[43m]\u001b[49m\u001b[43m[\u001b[49m\u001b[38;5;241;43m9\u001b[39;49m\u001b[38;5;241;43m*\u001b[39;49m\u001b[43mr\u001b[49m\u001b[38;5;241;43m+\u001b[39;49m\u001b[43mc\u001b[49m\u001b[43m]\u001b[49m\u001b[43m)\u001b[49m\n\u001b[1;32m      8\u001b[0m \u001b[43m          \u001b[49m\u001b[38;5;28;43;01mfor\u001b[39;49;00m\u001b[43m \u001b[49m\u001b[43mr\u001b[49m\u001b[43m \u001b[49m\u001b[38;5;129;43;01min\u001b[39;49;00m\u001b[43m \u001b[49m\u001b[38;5;28;43mrange\u001b[39;49m\u001b[43m(\u001b[49m\u001b[38;5;241;43m9\u001b[39;49m\u001b[43m)\u001b[49m\u001b[43m \u001b[49m\u001b[38;5;28;43;01mfor\u001b[39;49;00m\u001b[43m \u001b[49m\u001b[43mc\u001b[49m\u001b[43m \u001b[49m\u001b[38;5;129;43;01min\u001b[39;49;00m\u001b[43m \u001b[49m\u001b[38;5;28;43mrange\u001b[39;49m\u001b[43m(\u001b[49m\u001b[38;5;241;43m9\u001b[39;49m\u001b[43m)\u001b[49m\u001b[43m}\u001b[49m       \n\u001b[1;32m     10\u001b[0m solved_board \u001b[38;5;241m=\u001b[39m backtracking(board)\n\u001b[1;32m     12\u001b[0m \u001b[38;5;66;03m# Write board to file\u001b[39;00m\n",
      "Cell \u001b[0;32mIn[303], line 7\u001b[0m, in \u001b[0;36m<dictcomp>\u001b[0;34m(.0)\u001b[0m\n\u001b[1;32m      5\u001b[0m \u001b[38;5;28mprint\u001b[39m(sys\u001b[38;5;241m.\u001b[39margv[\u001b[38;5;241m1\u001b[39m])\n\u001b[1;32m      6\u001b[0m \u001b[38;5;66;03m# Parse boards to dict representation, scanning board L to R, Up to Down\u001b[39;00m\n\u001b[0;32m----> 7\u001b[0m board \u001b[38;5;241m=\u001b[39m { ROW[r] \u001b[38;5;241m+\u001b[39m COL[c]: \u001b[38;5;28;43mint\u001b[39;49m\u001b[43m(\u001b[49m\u001b[43msys\u001b[49m\u001b[38;5;241;43m.\u001b[39;49m\u001b[43margv\u001b[49m\u001b[43m[\u001b[49m\u001b[38;5;241;43m1\u001b[39;49m\u001b[43m]\u001b[49m\u001b[43m[\u001b[49m\u001b[38;5;241;43m9\u001b[39;49m\u001b[38;5;241;43m*\u001b[39;49m\u001b[43mr\u001b[49m\u001b[38;5;241;43m+\u001b[39;49m\u001b[43mc\u001b[49m\u001b[43m]\u001b[49m\u001b[43m)\u001b[49m\n\u001b[1;32m      8\u001b[0m           \u001b[38;5;28;01mfor\u001b[39;00m r \u001b[38;5;129;01min\u001b[39;00m \u001b[38;5;28mrange\u001b[39m(\u001b[38;5;241m9\u001b[39m) \u001b[38;5;28;01mfor\u001b[39;00m c \u001b[38;5;129;01min\u001b[39;00m \u001b[38;5;28mrange\u001b[39m(\u001b[38;5;241m9\u001b[39m)}       \n\u001b[1;32m     10\u001b[0m solved_board \u001b[38;5;241m=\u001b[39m backtracking(board)\n\u001b[1;32m     12\u001b[0m \u001b[38;5;66;03m# Write board to file\u001b[39;00m\n",
      "\u001b[0;31mValueError\u001b[0m: invalid literal for int() with base 10: '-'"
     ]
    }
   ],
   "source": [
    "if __name__ == '__main__':\n",
    "    if len(sys.argv) > 1:\n",
    "        \n",
    "        # Running sudoku solver with one board $python3 sudoku.py <input_string>.\n",
    "        print(sys.argv[1])\n",
    "        # Parse boards to dict representation, scanning board L to R, Up to Down\n",
    "        board = { ROW[r] + COL[c]: int(sys.argv[1][9*r+c])\n",
    "                  for r in range(9) for c in range(9)}       \n",
    "        \n",
    "        solved_board = backtracking(board)\n",
    "        \n",
    "        # Write board to file\n",
    "        out_filename = 'output.txt'\n",
    "        outfile = open(out_filename, \"w\")\n",
    "        outfile.write(board_to_string(solved_board))\n",
    "        outfile.write('\\n')\n",
    "\n",
    "    else:\n",
    "        # Running sudoku solver for boards in sudokus_start.txt $python3 sudoku.py\n",
    "\n",
    "        #  Read boards from source.\n",
    "        src_filename = 'sudokus_start.txt'\n",
    "        try:\n",
    "            srcfile = open(src_filename, \"r\")\n",
    "            sudoku_list = srcfile.read()\n",
    "        except:\n",
    "            print(\"Error reading the sudoku file %s\" % src_filename)\n",
    "            exit()\n",
    "\n",
    "        # Setup output file\n",
    "        out_filename = 'output.txt'\n",
    "        outfile = open(out_filename, \"w\")\n",
    "\n",
    "        # Solve each board using backtracking\n",
    "        for line in sudoku_list.split(\"\\n\"):\n",
    "\n",
    "            if len(line) < 9:\n",
    "                continue\n",
    "\n",
    "            # Parse boards to dict representation, scanning board L to R, Up to Down\n",
    "            board = { ROW[r] + COL[c]: int(line[9*r+c])\n",
    "                      for r in range(9) for c in range(9)}\n",
    "\n",
    "            # Print starting board. TODO: Comment this out when timing runs.\n",
    "            print_board(board)\n",
    "\n",
    "            # Solve with backtracking\n",
    "            solved_board = backtracking(board)\n",
    "\n",
    "            # Print solved board. TODO: Comment this out when timing runs.\n",
    "            print_board(solved_board)\n",
    "\n",
    "            # Write board to file\n",
    "            outfile.write(board_to_string(solved_board))\n",
    "            outfile.write('\\n')\n",
    "\n",
    "        print(\"Finishing all boards in file.\")"
   ]
  },
  {
   "cell_type": "code",
   "execution_count": null,
   "id": "918d8d6a-6c20-4053-b0e7-3287ed77984c",
   "metadata": {},
   "outputs": [],
   "source": []
  }
 ],
 "metadata": {
  "kernelspec": {
   "display_name": "Python 3 (ipykernel)",
   "language": "python",
   "name": "python3"
  },
  "language_info": {
   "codemirror_mode": {
    "name": "ipython",
    "version": 3
   },
   "file_extension": ".py",
   "mimetype": "text/x-python",
   "name": "python",
   "nbconvert_exporter": "python",
   "pygments_lexer": "ipython3",
   "version": "3.11.5"
  }
 },
 "nbformat": 4,
 "nbformat_minor": 5
}
